{
  "cells": [
    {
      "cell_type": "code",
      "execution_count": 1,
      "metadata": {
        "colab": {
          "base_uri": "https://localhost:8080/"
        },
        "id": "bt_N5yEVFOEN",
        "outputId": "fd3b65cd-cac3-4ce4-db29-982ecbdd0b05"
      },
      "outputs": [
        {
          "output_type": "stream",
          "name": "stdout",
          "text": [
            "Collecting ruwordnet\n",
            "  Downloading ruwordnet-0.0.3.tar.gz (13 kB)\n",
            "Requirement already satisfied: sqlalchemy in /usr/local/lib/python3.7/dist-packages (from ruwordnet) (1.4.31)\n",
            "Requirement already satisfied: greenlet!=0.4.17 in /usr/local/lib/python3.7/dist-packages (from sqlalchemy->ruwordnet) (1.1.2)\n",
            "Requirement already satisfied: importlib-metadata in /usr/local/lib/python3.7/dist-packages (from sqlalchemy->ruwordnet) (4.11.0)\n",
            "Requirement already satisfied: typing-extensions>=3.6.4 in /usr/local/lib/python3.7/dist-packages (from importlib-metadata->sqlalchemy->ruwordnet) (3.10.0.2)\n",
            "Requirement already satisfied: zipp>=0.5 in /usr/local/lib/python3.7/dist-packages (from importlib-metadata->sqlalchemy->ruwordnet) (3.7.0)\n",
            "Building wheels for collected packages: ruwordnet\n",
            "  Building wheel for ruwordnet (setup.py) ... \u001b[?25l\u001b[?25hdone\n",
            "  Created wheel for ruwordnet: filename=ruwordnet-0.0.3-py3-none-any.whl size=11621 sha256=5a1c60572db15e852ef67b29dfd51a5a98dff24be3e31ea0c2cafb4ed643f941\n",
            "  Stored in directory: /root/.cache/pip/wheels/44/82/4b/016af6cfab5855b87d3015eee1650f5560ee9fab885c7ef6b3\n",
            "Successfully built ruwordnet\n",
            "Installing collected packages: ruwordnet\n",
            "Successfully installed ruwordnet-0.0.3\n",
            "downloading a ruwordnet model from https://github.com/avidale/python-ruwordnet/releases/download/0.0.2/ruwordnet.db\n"
          ]
        }
      ],
      "source": [
        "! pip install ruwordnet\n",
        "! ruwordnet download"
      ]
    },
    {
      "cell_type": "code",
      "source": [
        "! pip install wiktionaryparser"
      ],
      "metadata": {
        "colab": {
          "base_uri": "https://localhost:8080/"
        },
        "id": "2SYtbVkO0p2Q",
        "outputId": "802dda30-586a-418e-dbdd-2323fa3821b4"
      },
      "execution_count": 2,
      "outputs": [
        {
          "output_type": "stream",
          "name": "stdout",
          "text": [
            "Collecting wiktionaryparser\n",
            "  Downloading wiktionaryparser-0.0.97-py3-none-any.whl (19 kB)\n",
            "Requirement already satisfied: beautifulsoup4 in /usr/local/lib/python3.7/dist-packages (from wiktionaryparser) (4.6.3)\n",
            "Requirement already satisfied: requests in /usr/local/lib/python3.7/dist-packages (from wiktionaryparser) (2.23.0)\n",
            "Requirement already satisfied: urllib3!=1.25.0,!=1.25.1,<1.26,>=1.21.1 in /usr/local/lib/python3.7/dist-packages (from requests->wiktionaryparser) (1.24.3)\n",
            "Requirement already satisfied: idna<3,>=2.5 in /usr/local/lib/python3.7/dist-packages (from requests->wiktionaryparser) (2.10)\n",
            "Requirement already satisfied: certifi>=2017.4.17 in /usr/local/lib/python3.7/dist-packages (from requests->wiktionaryparser) (2021.10.8)\n",
            "Requirement already satisfied: chardet<4,>=3.0.2 in /usr/local/lib/python3.7/dist-packages (from requests->wiktionaryparser) (3.0.4)\n",
            "Installing collected packages: wiktionaryparser\n",
            "Successfully installed wiktionaryparser-0.0.97\n"
          ]
        }
      ]
    },
    {
      "cell_type": "code",
      "source": [
        "import re"
      ],
      "metadata": {
        "id": "P-GsGV5NL48y"
      },
      "execution_count": 3,
      "outputs": []
    },
    {
      "cell_type": "code",
      "execution_count": 4,
      "metadata": {
        "id": "_gnw4_u8TjVn"
      },
      "outputs": [],
      "source": [
        "from tqdm.auto import tqdm\n",
        "tqdm.pandas()"
      ]
    },
    {
      "cell_type": "markdown",
      "source": [
        "WordNet"
      ],
      "metadata": {
        "id": "M0ks2_Ueu00d"
      }
    },
    {
      "cell_type": "code",
      "execution_count": 5,
      "metadata": {
        "id": "FYhKe4DX-e7C"
      },
      "outputs": [],
      "source": [
        "from ruwordnet import RuWordNet\n",
        "import pandas as pd\n",
        "\n",
        "wn = RuWordNet()"
      ]
    },
    {
      "cell_type": "markdown",
      "source": [
        "Wiktionary"
      ],
      "metadata": {
        "id": "Qjr1h1WOu2kS"
      }
    },
    {
      "cell_type": "code",
      "execution_count": 6,
      "metadata": {
        "id": "clGiTTN7Qk6V",
        "colab": {
          "base_uri": "https://localhost:8080/"
        },
        "outputId": "1f21f39e-5315-4c05-ac3b-1b7294993c18"
      },
      "outputs": [
        {
          "output_type": "stream",
          "name": "stdout",
          "text": [
            "{'etymology': 'Inherited from Proto-Slavic *lukъ, borrowed from Proto-Germanic *laukaz (compare German Lauch, English leek, Old Norse laukr whence Danish løg). Cognates include Polabian lāuk, Bulgarian лук (luk) and Slovene and Serbo-Croatian luk.\\n', 'definitions': [{'partOfSpeech': 'noun', 'text': ['лук • (luk)\\xa0m\\xa0inan (genitive лу́ка, nominative plural лу́ки, genitive plural лу́ков, related adjective лу́ковый)', '(usually uncountable, collectively) onion, onions'], 'relatedWords': [], 'examples': ['зелёный лук ― zeljónyj luk ― scallion', 'лук-поре́й ― luk-poréj ― leek']}], 'pronunciations': {'text': ['IPA: [ɫuk]', 'Homophone: луг (lug)'], 'audio': ['//upload.wikimedia.org/wikipedia/commons/4/49/Ru-%D0%BB%D1%83%D0%BA.ogg']}}\n",
            "{'etymology': 'Inherited from Proto-Slavic *lǫkъ. Cognate with Lithuanian lankas.\\n', 'definitions': [{'partOfSpeech': 'noun', 'text': ['лук • (luk)\\xa0m\\xa0inan (genitive лу́ка, nominative plural лу́ки, genitive plural лу́ков)', 'bow (weapon used for shooting arrows)'], 'relatedWords': [{'relationshipType': 'related terms', 'words': ['лу́чник (lúčnik)']}], 'examples': []}], 'pronunciations': {'text': ['IPA: [ɫuk]', 'Homophone: луг (lug)'], 'audio': ['//upload.wikimedia.org/wikipedia/commons/4/49/Ru-%D0%BB%D1%83%D0%BA.ogg']}}\n",
            "{'etymology': 'Borrowed from English look.\\n', 'definitions': [{'partOfSpeech': 'noun', 'text': ['лук • (luk)\\xa0m\\xa0inan (genitive лу́ка, nominative plural лу́ки, genitive plural лу́ков)', '(colloquial) appearance, clothing style, look'], 'relatedWords': [], 'examples': []}], 'pronunciations': {'text': ['IPA: [ɫuk]', 'Homophone: луг (lug)'], 'audio': ['//upload.wikimedia.org/wikipedia/commons/4/49/Ru-%D0%BB%D1%83%D0%BA.ogg']}}\n",
            "{'etymology': '', 'definitions': [{'partOfSpeech': 'noun', 'text': ['лук • (luk)\\xa0f\\xa0inan\\xa0pl', 'genitive plural of лука́ (luká)'], 'relatedWords': [], 'examples': []}], 'pronunciations': {'text': ['IPA: [ɫuk]', 'Homophone: луг (lug)'], 'audio': ['//upload.wikimedia.org/wikipedia/commons/4/49/Ru-%D0%BB%D1%83%D0%BA.ogg']}}\n"
          ]
        }
      ],
      "source": [
        "from wiktionaryparser import WiktionaryParser\n",
        "\n",
        "wp = WiktionaryParser()\n",
        "wp.set_default_language('Russian')\n",
        "entries = wp.fetch('лук')\n",
        "for entry in entries:\n",
        "    print(entry)"
      ]
    },
    {
      "cell_type": "markdown",
      "source": [
        "Частотный словарь Ляшевской и Шаровой"
      ],
      "metadata": {
        "id": "X52ie97Su4-o"
      }
    },
    {
      "cell_type": "code",
      "source": [
        "! unzip Freq2011.zip"
      ],
      "metadata": {
        "colab": {
          "base_uri": "https://localhost:8080/"
        },
        "id": "G3VR-WYESVfX",
        "outputId": "32ef6c65-c96d-402b-fc0d-14de86d9d765"
      },
      "execution_count": 7,
      "outputs": [
        {
          "output_type": "stream",
          "name": "stdout",
          "text": [
            "Archive:  Freq2011.zip\n",
            "  inflating: freqrnc2011.csv         \n",
            "  inflating: freqrnc_readme.txt      \n"
          ]
        }
      ]
    },
    {
      "cell_type": "code",
      "source": [
        "freqrnc = pd.read_csv('freqrnc2011.csv', sep='\\t')\n",
        "freqrnc = freqrnc[freqrnc.PoS == 's']"
      ],
      "metadata": {
        "id": "OdFUZWd-SVi0"
      },
      "execution_count": 8,
      "outputs": []
    },
    {
      "cell_type": "markdown",
      "source": [
        "НКРЯ"
      ],
      "metadata": {
        "id": "L014UdMSu_kQ"
      }
    },
    {
      "cell_type": "code",
      "source": [
        "from smart_open import open"
      ],
      "metadata": {
        "id": "795dG56LYMAR"
      },
      "execution_count": 17,
      "outputs": []
    },
    {
      "cell_type": "code",
      "source": [
        "def get_lemmas_count_rnc(filepath):\n",
        "\n",
        "    with open(filepath, mode='rt') as f:\n",
        "        rows = f.readlines()\n",
        "\n",
        "    table = []\n",
        "    for row in rows:\n",
        "        row = row.strip().split(';')[:11]\n",
        "        table.append(tuple(row))\n",
        "\n",
        "    df = pd.DataFrame(table[1:], columns=table[0])\n",
        "    df = df[df.Cat == 'S']\n",
        "\n",
        "    grouped_df = df.groupby('Lemma').agg(\"count\")\n",
        "    grouped_df = grouped_df[['Cat']].sort_values(['Cat'], ascending=False).reset_index()\n",
        "    grouped_df['Lemma'] = grouped_df['Lemma'].astype(str)\n",
        "    grouped_df['Lemma'] = grouped_df['Lemma'].apply(lambda x: x.lower())\n",
        "    lemmas_data = grouped_df[~grouped_df.Lemma.str.contains(\"[a-z0-9]\")].rename({'Cat':'rnc_num_senses'}, axis=1)\n",
        "\n",
        "    return lemmas_data"
      ],
      "metadata": {
        "id": "NxWak-TT8HbP"
      },
      "execution_count": 18,
      "outputs": []
    },
    {
      "cell_type": "code",
      "execution_count": 19,
      "metadata": {
        "id": "ipSS-JPqGAVW"
      },
      "outputs": [],
      "source": [
        "lemmas = get_lemmas_count_rnc('semantic.csv.gz')"
      ]
    },
    {
      "cell_type": "code",
      "source": [
        "# объединить частотность и количество значений в НКРЯ\n",
        "freq_and_count = pd.merge(freqrnc, lemmas, on='Lemma', how='inner')"
      ],
      "metadata": {
        "id": "av0X8D3_YpLv"
      },
      "execution_count": 20,
      "outputs": []
    },
    {
      "cell_type": "code",
      "source": [
        "# 200 самых частотных существительных\n",
        "most_freq_lemmas = freq_and_count.sort_values('Freq(ipm)')[-1000:]"
      ],
      "metadata": {
        "id": "D9LXdiPucOP3"
      },
      "execution_count": 21,
      "outputs": []
    },
    {
      "cell_type": "code",
      "execution_count": 22,
      "metadata": {
        "id": "c29Rtj9iALhE"
      },
      "outputs": [],
      "source": [
        "def fetch_with_catch_error(x):\n",
        "    try:\n",
        "        return len([1 for i in wp.fetch(x)])\n",
        "    except AttributeError as E:\n",
        "        print(x, E)\n",
        "\n",
        "def ruwordnet_wiki_comparison(data):\n",
        "    \n",
        "    data['wiktionary_num_senses'] = data['Lemma'].progress_apply(fetch_with_catch_error)\n",
        "    data['ruwordnet_num_senses'] = data['Lemma'].progress_apply(lambda x: len(wn.get_senses(x)))\n",
        "    \n",
        "    return data"
      ]
    },
    {
      "cell_type": "code",
      "source": [
        "result = ruwordnet_wiki_comparison(most_freq_lemmas)"
      ],
      "metadata": {
        "id": "9UQKfW0U-x5k",
        "colab": {
          "base_uri": "https://localhost:8080/",
          "height": 81,
          "referenced_widgets": [
            "e688aaa5a1454fe8ae99718e8443c43b",
            "968a50502f6b4e56ac41c7f2aa738db9",
            "66981e440e934fc49d27ad2f82017038",
            "5e203798696e4c2ca6f25e361a5a6647",
            "2d04c56f08034e87a39828588bba8fb2",
            "20c1c06f946045f68fa6fcbd901e4b80",
            "e6109dbc8e1d4851a0765607003f191e",
            "8cf713c9767a4074af48da170cf6e9c5",
            "39b2f302d35a45d7916b0eb409e7c58c",
            "24a74aa6e7474f49b7844859cd8889f6",
            "409c6905d37445b8b10c954454d0b004",
            "2d94332a3dea4770a58361d547172e8b",
            "b88bcd855c9b4f97b26ab064323246a0",
            "39bc0b9bf1934622b72374e64543b9f6",
            "0a3181ea263d4a3aa230044a2cf9a9f1",
            "6d55fc7a93ea486fa96841f2fb7fbe11",
            "70d579b361254d1689db9d76aa4f38fb",
            "c1b9842808664ddf85fe2c43c2e4722f",
            "b063a4b32d2941d3b58279dc69ac9ef6",
            "3cf2694812a940a3924c157a0d34a4fb",
            "4524dde1c76c4befb038b69c6859fc7b",
            "67ab7eb1f68c42b4ba6746e7ea34c761"
          ]
        },
        "outputId": "af6e9f64-f629-4095-8cc6-1d58ddbf49c6"
      },
      "execution_count": 23,
      "outputs": [
        {
          "output_type": "display_data",
          "data": {
            "application/vnd.jupyter.widget-view+json": {
              "model_id": "e688aaa5a1454fe8ae99718e8443c43b",
              "version_minor": 0,
              "version_major": 2
            },
            "text/plain": [
              "  0%|          | 0/1000 [00:00<?, ?it/s]"
            ]
          },
          "metadata": {}
        },
        {
          "output_type": "display_data",
          "data": {
            "application/vnd.jupyter.widget-view+json": {
              "model_id": "2d94332a3dea4770a58361d547172e8b",
              "version_minor": 0,
              "version_major": 2
            },
            "text/plain": [
              "  0%|          | 0/1000 [00:00<?, ?it/s]"
            ]
          },
          "metadata": {}
        }
      ]
    },
    {
      "cell_type": "code",
      "source": [
        "result.reset_index(inplace=True, drop=True)"
      ],
      "metadata": {
        "id": "9LQUKjBmffBt"
      },
      "execution_count": 31,
      "outputs": []
    },
    {
      "cell_type": "code",
      "source": [
        "result['Mean'] = result[['rnc_num_senses', 'wiktionary_num_senses', 'ruwordnet_num_senses']].mean(axis=1).round().astype('int')"
      ],
      "metadata": {
        "id": "LkE9OcMSh28K"
      },
      "execution_count": 28,
      "outputs": []
    },
    {
      "cell_type": "code",
      "source": [
        "result = result.drop(['R', 'D', 'Doc'], axis=1).reset_index(drop=True)"
      ],
      "metadata": {
        "id": "OcmGkE_Gipy4"
      },
      "execution_count": 29,
      "outputs": []
    },
    {
      "cell_type": "code",
      "source": [
        "result.head()"
      ],
      "metadata": {
        "colab": {
          "base_uri": "https://localhost:8080/",
          "height": 206
        },
        "id": "kPylt1Ggw83F",
        "outputId": "e93bad9d-82bf-4937-e18f-6c4b60ce1359"
      },
      "execution_count": 50,
      "outputs": [
        {
          "output_type": "execute_result",
          "data": {
            "text/html": [
              "\n",
              "  <div id=\"df-3b3f9a95-2402-4150-93f5-c578758f37e6\">\n",
              "    <div class=\"colab-df-container\">\n",
              "      <div>\n",
              "<style scoped>\n",
              "    .dataframe tbody tr th:only-of-type {\n",
              "        vertical-align: middle;\n",
              "    }\n",
              "\n",
              "    .dataframe tbody tr th {\n",
              "        vertical-align: top;\n",
              "    }\n",
              "\n",
              "    .dataframe thead th {\n",
              "        text-align: right;\n",
              "    }\n",
              "</style>\n",
              "<table border=\"1\" class=\"dataframe\">\n",
              "  <thead>\n",
              "    <tr style=\"text-align: right;\">\n",
              "      <th></th>\n",
              "      <th>Lemma</th>\n",
              "      <th>PoS</th>\n",
              "      <th>Freq(ipm)</th>\n",
              "      <th>rnc_num_senses</th>\n",
              "      <th>wiktionary_num_senses</th>\n",
              "      <th>ruwordnet_num_senses</th>\n",
              "      <th>Mean</th>\n",
              "    </tr>\n",
              "  </thead>\n",
              "  <tbody>\n",
              "    <tr>\n",
              "      <th>0</th>\n",
              "      <td>единица</td>\n",
              "      <td>s</td>\n",
              "      <td>52.4</td>\n",
              "      <td>5</td>\n",
              "      <td>1</td>\n",
              "      <td>1</td>\n",
              "      <td>2</td>\n",
              "    </tr>\n",
              "    <tr>\n",
              "      <th>1</th>\n",
              "      <td>чемпионат</td>\n",
              "      <td>s</td>\n",
              "      <td>52.4</td>\n",
              "      <td>2</td>\n",
              "      <td>1</td>\n",
              "      <td>1</td>\n",
              "      <td>1</td>\n",
              "    </tr>\n",
              "    <tr>\n",
              "      <th>2</th>\n",
              "      <td>строка</td>\n",
              "      <td>s</td>\n",
              "      <td>52.5</td>\n",
              "      <td>2</td>\n",
              "      <td>1</td>\n",
              "      <td>2</td>\n",
              "      <td>2</td>\n",
              "    </tr>\n",
              "    <tr>\n",
              "      <th>3</th>\n",
              "      <td>затрата</td>\n",
              "      <td>s</td>\n",
              "      <td>52.5</td>\n",
              "      <td>3</td>\n",
              "      <td>1</td>\n",
              "      <td>2</td>\n",
              "      <td>2</td>\n",
              "    </tr>\n",
              "    <tr>\n",
              "      <th>4</th>\n",
              "      <td>покупатель</td>\n",
              "      <td>s</td>\n",
              "      <td>52.6</td>\n",
              "      <td>1</td>\n",
              "      <td>1</td>\n",
              "      <td>1</td>\n",
              "      <td>1</td>\n",
              "    </tr>\n",
              "  </tbody>\n",
              "</table>\n",
              "</div>\n",
              "      <button class=\"colab-df-convert\" onclick=\"convertToInteractive('df-3b3f9a95-2402-4150-93f5-c578758f37e6')\"\n",
              "              title=\"Convert this dataframe to an interactive table.\"\n",
              "              style=\"display:none;\">\n",
              "        \n",
              "  <svg xmlns=\"http://www.w3.org/2000/svg\" height=\"24px\"viewBox=\"0 0 24 24\"\n",
              "       width=\"24px\">\n",
              "    <path d=\"M0 0h24v24H0V0z\" fill=\"none\"/>\n",
              "    <path d=\"M18.56 5.44l.94 2.06.94-2.06 2.06-.94-2.06-.94-.94-2.06-.94 2.06-2.06.94zm-11 1L8.5 8.5l.94-2.06 2.06-.94-2.06-.94L8.5 2.5l-.94 2.06-2.06.94zm10 10l.94 2.06.94-2.06 2.06-.94-2.06-.94-.94-2.06-.94 2.06-2.06.94z\"/><path d=\"M17.41 7.96l-1.37-1.37c-.4-.4-.92-.59-1.43-.59-.52 0-1.04.2-1.43.59L10.3 9.45l-7.72 7.72c-.78.78-.78 2.05 0 2.83L4 21.41c.39.39.9.59 1.41.59.51 0 1.02-.2 1.41-.59l7.78-7.78 2.81-2.81c.8-.78.8-2.07 0-2.86zM5.41 20L4 18.59l7.72-7.72 1.47 1.35L5.41 20z\"/>\n",
              "  </svg>\n",
              "      </button>\n",
              "      \n",
              "  <style>\n",
              "    .colab-df-container {\n",
              "      display:flex;\n",
              "      flex-wrap:wrap;\n",
              "      gap: 12px;\n",
              "    }\n",
              "\n",
              "    .colab-df-convert {\n",
              "      background-color: #E8F0FE;\n",
              "      border: none;\n",
              "      border-radius: 50%;\n",
              "      cursor: pointer;\n",
              "      display: none;\n",
              "      fill: #1967D2;\n",
              "      height: 32px;\n",
              "      padding: 0 0 0 0;\n",
              "      width: 32px;\n",
              "    }\n",
              "\n",
              "    .colab-df-convert:hover {\n",
              "      background-color: #E2EBFA;\n",
              "      box-shadow: 0px 1px 2px rgba(60, 64, 67, 0.3), 0px 1px 3px 1px rgba(60, 64, 67, 0.15);\n",
              "      fill: #174EA6;\n",
              "    }\n",
              "\n",
              "    [theme=dark] .colab-df-convert {\n",
              "      background-color: #3B4455;\n",
              "      fill: #D2E3FC;\n",
              "    }\n",
              "\n",
              "    [theme=dark] .colab-df-convert:hover {\n",
              "      background-color: #434B5C;\n",
              "      box-shadow: 0px 1px 3px 1px rgba(0, 0, 0, 0.15);\n",
              "      filter: drop-shadow(0px 1px 2px rgba(0, 0, 0, 0.3));\n",
              "      fill: #FFFFFF;\n",
              "    }\n",
              "  </style>\n",
              "\n",
              "      <script>\n",
              "        const buttonEl =\n",
              "          document.querySelector('#df-3b3f9a95-2402-4150-93f5-c578758f37e6 button.colab-df-convert');\n",
              "        buttonEl.style.display =\n",
              "          google.colab.kernel.accessAllowed ? 'block' : 'none';\n",
              "\n",
              "        async function convertToInteractive(key) {\n",
              "          const element = document.querySelector('#df-3b3f9a95-2402-4150-93f5-c578758f37e6');\n",
              "          const dataTable =\n",
              "            await google.colab.kernel.invokeFunction('convertToInteractive',\n",
              "                                                     [key], {});\n",
              "          if (!dataTable) return;\n",
              "\n",
              "          const docLinkHtml = 'Like what you see? Visit the ' +\n",
              "            '<a target=\"_blank\" href=https://colab.research.google.com/notebooks/data_table.ipynb>data table notebook</a>'\n",
              "            + ' to learn more about interactive tables.';\n",
              "          element.innerHTML = '';\n",
              "          dataTable['output_type'] = 'display_data';\n",
              "          await google.colab.output.renderOutput(dataTable, element);\n",
              "          const docLink = document.createElement('div');\n",
              "          docLink.innerHTML = docLinkHtml;\n",
              "          element.appendChild(docLink);\n",
              "        }\n",
              "      </script>\n",
              "    </div>\n",
              "  </div>\n",
              "  "
            ],
            "text/plain": [
              "        Lemma PoS  Freq(ipm)  ...  wiktionary_num_senses  ruwordnet_num_senses  Mean\n",
              "0     единица   s       52.4  ...                      1                     1     2\n",
              "1   чемпионат   s       52.4  ...                      1                     1     1\n",
              "2      строка   s       52.5  ...                      1                     2     2\n",
              "3     затрата   s       52.5  ...                      1                     2     2\n",
              "4  покупатель   s       52.6  ...                      1                     1     1\n",
              "\n",
              "[5 rows x 7 columns]"
            ]
          },
          "metadata": {},
          "execution_count": 50
        }
      ]
    },
    {
      "cell_type": "code",
      "source": [
        "def groups(num):\n",
        "    c = None\n",
        "    if num == 1:\n",
        "        c = 1\n",
        "    elif num <= 4:\n",
        "        c = 2\n",
        "    else:\n",
        "        c = 3\n",
        "    return c"
      ],
      "metadata": {
        "id": "m-rPEfMV6flF"
      },
      "execution_count": 65,
      "outputs": []
    },
    {
      "cell_type": "code",
      "source": [
        "result['Group'] = result.Mean.apply(groups)"
      ],
      "metadata": {
        "id": "ZBW5fqFf4jPK"
      },
      "execution_count": 81,
      "outputs": []
    },
    {
      "cell_type": "code",
      "source": [
        "import scipy.stats  as stats\n",
        "stats.pearsonr(result['Freq(ipm)'], result['Mean'])"
      ],
      "metadata": {
        "colab": {
          "base_uri": "https://localhost:8080/"
        },
        "id": "nDZqH6ZGCXZg",
        "outputId": "7cca9abe-691d-4102-e812-d946570adf4c"
      },
      "execution_count": 82,
      "outputs": [
        {
          "output_type": "execute_result",
          "data": {
            "text/plain": [
              "(0.21846681826290673, 2.8603063021837155e-12)"
            ]
          },
          "metadata": {},
          "execution_count": 82
        }
      ]
    },
    {
      "cell_type": "code",
      "source": [
        "stats.pearsonr(result['Freq(ipm)'], result['Group'])"
      ],
      "metadata": {
        "colab": {
          "base_uri": "https://localhost:8080/"
        },
        "id": "PtC7gmxs7uiP",
        "outputId": "75d079f0-85a0-4a87-8a5c-9fd7306420fd"
      },
      "execution_count": 84,
      "outputs": [
        {
          "output_type": "execute_result",
          "data": {
            "text/plain": [
              "(0.18903507270819914, 1.693856960689509e-09)"
            ]
          },
          "metadata": {},
          "execution_count": 84
        }
      ]
    },
    {
      "cell_type": "code",
      "source": [
        "one = result[result.Group == 1]\n",
        "few = result[result.Group == 2]\n",
        "many = result[result.Group == 3]"
      ],
      "metadata": {
        "id": "DsdiB0SPkrt7"
      },
      "execution_count": 74,
      "outputs": []
    },
    {
      "cell_type": "code",
      "source": [
        "target_words = pd.concat([one[-20:], few[-20:], many[-20:]], ignore_index=True).sort_values(['Freq(ipm)'], ascending=False, ignore_index=True)"
      ],
      "metadata": {
        "id": "yAVf0j0Mkyld"
      },
      "execution_count": 93,
      "outputs": []
    },
    {
      "cell_type": "code",
      "source": [
        "target_words.head()"
      ],
      "metadata": {
        "id": "_ecWCp642qq-",
        "colab": {
          "base_uri": "https://localhost:8080/",
          "height": 206
        },
        "outputId": "368d1f40-e07f-4c12-da29-966e9ff43e05"
      },
      "execution_count": 94,
      "outputs": [
        {
          "output_type": "execute_result",
          "data": {
            "text/html": [
              "\n",
              "  <div id=\"df-fc6e6930-6b15-4f0e-a11c-eb6fc457fdf0\">\n",
              "    <div class=\"colab-df-container\">\n",
              "      <div>\n",
              "<style scoped>\n",
              "    .dataframe tbody tr th:only-of-type {\n",
              "        vertical-align: middle;\n",
              "    }\n",
              "\n",
              "    .dataframe tbody tr th {\n",
              "        vertical-align: top;\n",
              "    }\n",
              "\n",
              "    .dataframe thead th {\n",
              "        text-align: right;\n",
              "    }\n",
              "</style>\n",
              "<table border=\"1\" class=\"dataframe\">\n",
              "  <thead>\n",
              "    <tr style=\"text-align: right;\">\n",
              "      <th></th>\n",
              "      <th>Lemma</th>\n",
              "      <th>PoS</th>\n",
              "      <th>Freq(ipm)</th>\n",
              "      <th>rnc_num_senses</th>\n",
              "      <th>wiktionary_num_senses</th>\n",
              "      <th>ruwordnet_num_senses</th>\n",
              "      <th>Mean</th>\n",
              "      <th>Group</th>\n",
              "    </tr>\n",
              "  </thead>\n",
              "  <tbody>\n",
              "    <tr>\n",
              "      <th>0</th>\n",
              "      <td>год</td>\n",
              "      <td>s</td>\n",
              "      <td>3727.5</td>\n",
              "      <td>5</td>\n",
              "      <td>1</td>\n",
              "      <td>1</td>\n",
              "      <td>2</td>\n",
              "      <td>2</td>\n",
              "    </tr>\n",
              "    <tr>\n",
              "      <th>1</th>\n",
              "      <td>человек</td>\n",
              "      <td>s</td>\n",
              "      <td>2723.0</td>\n",
              "      <td>4</td>\n",
              "      <td>1</td>\n",
              "      <td>2</td>\n",
              "      <td>2</td>\n",
              "      <td>2</td>\n",
              "    </tr>\n",
              "    <tr>\n",
              "      <th>2</th>\n",
              "      <td>время</td>\n",
              "      <td>s</td>\n",
              "      <td>2015.7</td>\n",
              "      <td>9</td>\n",
              "      <td>1</td>\n",
              "      <td>5</td>\n",
              "      <td>5</td>\n",
              "      <td>3</td>\n",
              "    </tr>\n",
              "    <tr>\n",
              "      <th>3</th>\n",
              "      <td>дело</td>\n",
              "      <td>s</td>\n",
              "      <td>1412.1</td>\n",
              "      <td>11</td>\n",
              "      <td>2</td>\n",
              "      <td>4</td>\n",
              "      <td>6</td>\n",
              "      <td>3</td>\n",
              "    </tr>\n",
              "    <tr>\n",
              "      <th>4</th>\n",
              "      <td>жизнь</td>\n",
              "      <td>s</td>\n",
              "      <td>1389.8</td>\n",
              "      <td>6</td>\n",
              "      <td>1</td>\n",
              "      <td>1</td>\n",
              "      <td>3</td>\n",
              "      <td>2</td>\n",
              "    </tr>\n",
              "  </tbody>\n",
              "</table>\n",
              "</div>\n",
              "      <button class=\"colab-df-convert\" onclick=\"convertToInteractive('df-fc6e6930-6b15-4f0e-a11c-eb6fc457fdf0')\"\n",
              "              title=\"Convert this dataframe to an interactive table.\"\n",
              "              style=\"display:none;\">\n",
              "        \n",
              "  <svg xmlns=\"http://www.w3.org/2000/svg\" height=\"24px\"viewBox=\"0 0 24 24\"\n",
              "       width=\"24px\">\n",
              "    <path d=\"M0 0h24v24H0V0z\" fill=\"none\"/>\n",
              "    <path d=\"M18.56 5.44l.94 2.06.94-2.06 2.06-.94-2.06-.94-.94-2.06-.94 2.06-2.06.94zm-11 1L8.5 8.5l.94-2.06 2.06-.94-2.06-.94L8.5 2.5l-.94 2.06-2.06.94zm10 10l.94 2.06.94-2.06 2.06-.94-2.06-.94-.94-2.06-.94 2.06-2.06.94z\"/><path d=\"M17.41 7.96l-1.37-1.37c-.4-.4-.92-.59-1.43-.59-.52 0-1.04.2-1.43.59L10.3 9.45l-7.72 7.72c-.78.78-.78 2.05 0 2.83L4 21.41c.39.39.9.59 1.41.59.51 0 1.02-.2 1.41-.59l7.78-7.78 2.81-2.81c.8-.78.8-2.07 0-2.86zM5.41 20L4 18.59l7.72-7.72 1.47 1.35L5.41 20z\"/>\n",
              "  </svg>\n",
              "      </button>\n",
              "      \n",
              "  <style>\n",
              "    .colab-df-container {\n",
              "      display:flex;\n",
              "      flex-wrap:wrap;\n",
              "      gap: 12px;\n",
              "    }\n",
              "\n",
              "    .colab-df-convert {\n",
              "      background-color: #E8F0FE;\n",
              "      border: none;\n",
              "      border-radius: 50%;\n",
              "      cursor: pointer;\n",
              "      display: none;\n",
              "      fill: #1967D2;\n",
              "      height: 32px;\n",
              "      padding: 0 0 0 0;\n",
              "      width: 32px;\n",
              "    }\n",
              "\n",
              "    .colab-df-convert:hover {\n",
              "      background-color: #E2EBFA;\n",
              "      box-shadow: 0px 1px 2px rgba(60, 64, 67, 0.3), 0px 1px 3px 1px rgba(60, 64, 67, 0.15);\n",
              "      fill: #174EA6;\n",
              "    }\n",
              "\n",
              "    [theme=dark] .colab-df-convert {\n",
              "      background-color: #3B4455;\n",
              "      fill: #D2E3FC;\n",
              "    }\n",
              "\n",
              "    [theme=dark] .colab-df-convert:hover {\n",
              "      background-color: #434B5C;\n",
              "      box-shadow: 0px 1px 3px 1px rgba(0, 0, 0, 0.15);\n",
              "      filter: drop-shadow(0px 1px 2px rgba(0, 0, 0, 0.3));\n",
              "      fill: #FFFFFF;\n",
              "    }\n",
              "  </style>\n",
              "\n",
              "      <script>\n",
              "        const buttonEl =\n",
              "          document.querySelector('#df-fc6e6930-6b15-4f0e-a11c-eb6fc457fdf0 button.colab-df-convert');\n",
              "        buttonEl.style.display =\n",
              "          google.colab.kernel.accessAllowed ? 'block' : 'none';\n",
              "\n",
              "        async function convertToInteractive(key) {\n",
              "          const element = document.querySelector('#df-fc6e6930-6b15-4f0e-a11c-eb6fc457fdf0');\n",
              "          const dataTable =\n",
              "            await google.colab.kernel.invokeFunction('convertToInteractive',\n",
              "                                                     [key], {});\n",
              "          if (!dataTable) return;\n",
              "\n",
              "          const docLinkHtml = 'Like what you see? Visit the ' +\n",
              "            '<a target=\"_blank\" href=https://colab.research.google.com/notebooks/data_table.ipynb>data table notebook</a>'\n",
              "            + ' to learn more about interactive tables.';\n",
              "          element.innerHTML = '';\n",
              "          dataTable['output_type'] = 'display_data';\n",
              "          await google.colab.output.renderOutput(dataTable, element);\n",
              "          const docLink = document.createElement('div');\n",
              "          docLink.innerHTML = docLinkHtml;\n",
              "          element.appendChild(docLink);\n",
              "        }\n",
              "      </script>\n",
              "    </div>\n",
              "  </div>\n",
              "  "
            ],
            "text/plain": [
              "     Lemma PoS  Freq(ipm)  ...  ruwordnet_num_senses  Mean  Group\n",
              "0      год   s     3727.5  ...                     1     2      2\n",
              "1  человек   s     2723.0  ...                     2     2      2\n",
              "2    время   s     2015.7  ...                     5     5      3\n",
              "3     дело   s     1412.1  ...                     4     6      3\n",
              "4    жизнь   s     1389.8  ...                     1     3      2\n",
              "\n",
              "[5 rows x 8 columns]"
            ]
          },
          "metadata": {},
          "execution_count": 94
        }
      ]
    },
    {
      "cell_type": "code",
      "execution_count": 95,
      "metadata": {
        "id": "TjMJHx1ZQjtk"
      },
      "outputs": [],
      "source": [
        "target_words.to_csv('target_words.tsv', sep='\\t', index=False)"
      ]
    },
    {
      "cell_type": "code",
      "source": [
        ""
      ],
      "metadata": {
        "id": "YdHDtCCXVZK1"
      },
      "execution_count": null,
      "outputs": []
    }
  ],
  "metadata": {
    "colab": {
      "collapsed_sections": [],
      "name": "get_target_words.ipynb",
      "provenance": []
    },
    "kernelspec": {
      "display_name": "Python 3",
      "name": "python3"
    },
    "language_info": {
      "name": "python"
    },
    "widgets": {
      "application/vnd.jupyter.widget-state+json": {
        "e688aaa5a1454fe8ae99718e8443c43b": {
          "model_module": "@jupyter-widgets/controls",
          "model_name": "HBoxModel",
          "model_module_version": "1.5.0",
          "state": {
            "_view_name": "HBoxView",
            "_dom_classes": [],
            "_model_name": "HBoxModel",
            "_view_module": "@jupyter-widgets/controls",
            "_model_module_version": "1.5.0",
            "_view_count": null,
            "_view_module_version": "1.5.0",
            "box_style": "",
            "layout": "IPY_MODEL_968a50502f6b4e56ac41c7f2aa738db9",
            "_model_module": "@jupyter-widgets/controls",
            "children": [
              "IPY_MODEL_66981e440e934fc49d27ad2f82017038",
              "IPY_MODEL_5e203798696e4c2ca6f25e361a5a6647",
              "IPY_MODEL_2d04c56f08034e87a39828588bba8fb2"
            ]
          }
        },
        "968a50502f6b4e56ac41c7f2aa738db9": {
          "model_module": "@jupyter-widgets/base",
          "model_name": "LayoutModel",
          "model_module_version": "1.2.0",
          "state": {
            "_view_name": "LayoutView",
            "grid_template_rows": null,
            "right": null,
            "justify_content": null,
            "_view_module": "@jupyter-widgets/base",
            "overflow": null,
            "_model_module_version": "1.2.0",
            "_view_count": null,
            "flex_flow": null,
            "width": null,
            "min_width": null,
            "border": null,
            "align_items": null,
            "bottom": null,
            "_model_module": "@jupyter-widgets/base",
            "top": null,
            "grid_column": null,
            "overflow_y": null,
            "overflow_x": null,
            "grid_auto_flow": null,
            "grid_area": null,
            "grid_template_columns": null,
            "flex": null,
            "_model_name": "LayoutModel",
            "justify_items": null,
            "grid_row": null,
            "max_height": null,
            "align_content": null,
            "visibility": null,
            "align_self": null,
            "height": null,
            "min_height": null,
            "padding": null,
            "grid_auto_rows": null,
            "grid_gap": null,
            "max_width": null,
            "order": null,
            "_view_module_version": "1.2.0",
            "grid_template_areas": null,
            "object_position": null,
            "object_fit": null,
            "grid_auto_columns": null,
            "margin": null,
            "display": null,
            "left": null
          }
        },
        "66981e440e934fc49d27ad2f82017038": {
          "model_module": "@jupyter-widgets/controls",
          "model_name": "HTMLModel",
          "model_module_version": "1.5.0",
          "state": {
            "_view_name": "HTMLView",
            "style": "IPY_MODEL_20c1c06f946045f68fa6fcbd901e4b80",
            "_dom_classes": [],
            "description": "",
            "_model_name": "HTMLModel",
            "placeholder": "​",
            "_view_module": "@jupyter-widgets/controls",
            "_model_module_version": "1.5.0",
            "value": "100%",
            "_view_count": null,
            "_view_module_version": "1.5.0",
            "description_tooltip": null,
            "_model_module": "@jupyter-widgets/controls",
            "layout": "IPY_MODEL_e6109dbc8e1d4851a0765607003f191e"
          }
        },
        "5e203798696e4c2ca6f25e361a5a6647": {
          "model_module": "@jupyter-widgets/controls",
          "model_name": "FloatProgressModel",
          "model_module_version": "1.5.0",
          "state": {
            "_view_name": "ProgressView",
            "style": "IPY_MODEL_8cf713c9767a4074af48da170cf6e9c5",
            "_dom_classes": [],
            "description": "",
            "_model_name": "FloatProgressModel",
            "bar_style": "success",
            "max": 1000,
            "_view_module": "@jupyter-widgets/controls",
            "_model_module_version": "1.5.0",
            "value": 1000,
            "_view_count": null,
            "_view_module_version": "1.5.0",
            "orientation": "horizontal",
            "min": 0,
            "description_tooltip": null,
            "_model_module": "@jupyter-widgets/controls",
            "layout": "IPY_MODEL_39b2f302d35a45d7916b0eb409e7c58c"
          }
        },
        "2d04c56f08034e87a39828588bba8fb2": {
          "model_module": "@jupyter-widgets/controls",
          "model_name": "HTMLModel",
          "model_module_version": "1.5.0",
          "state": {
            "_view_name": "HTMLView",
            "style": "IPY_MODEL_24a74aa6e7474f49b7844859cd8889f6",
            "_dom_classes": [],
            "description": "",
            "_model_name": "HTMLModel",
            "placeholder": "​",
            "_view_module": "@jupyter-widgets/controls",
            "_model_module_version": "1.5.0",
            "value": " 1000/1000 [06:18&lt;00:00,  2.68it/s]",
            "_view_count": null,
            "_view_module_version": "1.5.0",
            "description_tooltip": null,
            "_model_module": "@jupyter-widgets/controls",
            "layout": "IPY_MODEL_409c6905d37445b8b10c954454d0b004"
          }
        },
        "20c1c06f946045f68fa6fcbd901e4b80": {
          "model_module": "@jupyter-widgets/controls",
          "model_name": "DescriptionStyleModel",
          "model_module_version": "1.5.0",
          "state": {
            "_view_name": "StyleView",
            "_model_name": "DescriptionStyleModel",
            "description_width": "",
            "_view_module": "@jupyter-widgets/base",
            "_model_module_version": "1.5.0",
            "_view_count": null,
            "_view_module_version": "1.2.0",
            "_model_module": "@jupyter-widgets/controls"
          }
        },
        "e6109dbc8e1d4851a0765607003f191e": {
          "model_module": "@jupyter-widgets/base",
          "model_name": "LayoutModel",
          "model_module_version": "1.2.0",
          "state": {
            "_view_name": "LayoutView",
            "grid_template_rows": null,
            "right": null,
            "justify_content": null,
            "_view_module": "@jupyter-widgets/base",
            "overflow": null,
            "_model_module_version": "1.2.0",
            "_view_count": null,
            "flex_flow": null,
            "width": null,
            "min_width": null,
            "border": null,
            "align_items": null,
            "bottom": null,
            "_model_module": "@jupyter-widgets/base",
            "top": null,
            "grid_column": null,
            "overflow_y": null,
            "overflow_x": null,
            "grid_auto_flow": null,
            "grid_area": null,
            "grid_template_columns": null,
            "flex": null,
            "_model_name": "LayoutModel",
            "justify_items": null,
            "grid_row": null,
            "max_height": null,
            "align_content": null,
            "visibility": null,
            "align_self": null,
            "height": null,
            "min_height": null,
            "padding": null,
            "grid_auto_rows": null,
            "grid_gap": null,
            "max_width": null,
            "order": null,
            "_view_module_version": "1.2.0",
            "grid_template_areas": null,
            "object_position": null,
            "object_fit": null,
            "grid_auto_columns": null,
            "margin": null,
            "display": null,
            "left": null
          }
        },
        "8cf713c9767a4074af48da170cf6e9c5": {
          "model_module": "@jupyter-widgets/controls",
          "model_name": "ProgressStyleModel",
          "model_module_version": "1.5.0",
          "state": {
            "_view_name": "StyleView",
            "_model_name": "ProgressStyleModel",
            "description_width": "",
            "_view_module": "@jupyter-widgets/base",
            "_model_module_version": "1.5.0",
            "_view_count": null,
            "_view_module_version": "1.2.0",
            "bar_color": null,
            "_model_module": "@jupyter-widgets/controls"
          }
        },
        "39b2f302d35a45d7916b0eb409e7c58c": {
          "model_module": "@jupyter-widgets/base",
          "model_name": "LayoutModel",
          "model_module_version": "1.2.0",
          "state": {
            "_view_name": "LayoutView",
            "grid_template_rows": null,
            "right": null,
            "justify_content": null,
            "_view_module": "@jupyter-widgets/base",
            "overflow": null,
            "_model_module_version": "1.2.0",
            "_view_count": null,
            "flex_flow": null,
            "width": null,
            "min_width": null,
            "border": null,
            "align_items": null,
            "bottom": null,
            "_model_module": "@jupyter-widgets/base",
            "top": null,
            "grid_column": null,
            "overflow_y": null,
            "overflow_x": null,
            "grid_auto_flow": null,
            "grid_area": null,
            "grid_template_columns": null,
            "flex": null,
            "_model_name": "LayoutModel",
            "justify_items": null,
            "grid_row": null,
            "max_height": null,
            "align_content": null,
            "visibility": null,
            "align_self": null,
            "height": null,
            "min_height": null,
            "padding": null,
            "grid_auto_rows": null,
            "grid_gap": null,
            "max_width": null,
            "order": null,
            "_view_module_version": "1.2.0",
            "grid_template_areas": null,
            "object_position": null,
            "object_fit": null,
            "grid_auto_columns": null,
            "margin": null,
            "display": null,
            "left": null
          }
        },
        "24a74aa6e7474f49b7844859cd8889f6": {
          "model_module": "@jupyter-widgets/controls",
          "model_name": "DescriptionStyleModel",
          "model_module_version": "1.5.0",
          "state": {
            "_view_name": "StyleView",
            "_model_name": "DescriptionStyleModel",
            "description_width": "",
            "_view_module": "@jupyter-widgets/base",
            "_model_module_version": "1.5.0",
            "_view_count": null,
            "_view_module_version": "1.2.0",
            "_model_module": "@jupyter-widgets/controls"
          }
        },
        "409c6905d37445b8b10c954454d0b004": {
          "model_module": "@jupyter-widgets/base",
          "model_name": "LayoutModel",
          "model_module_version": "1.2.0",
          "state": {
            "_view_name": "LayoutView",
            "grid_template_rows": null,
            "right": null,
            "justify_content": null,
            "_view_module": "@jupyter-widgets/base",
            "overflow": null,
            "_model_module_version": "1.2.0",
            "_view_count": null,
            "flex_flow": null,
            "width": null,
            "min_width": null,
            "border": null,
            "align_items": null,
            "bottom": null,
            "_model_module": "@jupyter-widgets/base",
            "top": null,
            "grid_column": null,
            "overflow_y": null,
            "overflow_x": null,
            "grid_auto_flow": null,
            "grid_area": null,
            "grid_template_columns": null,
            "flex": null,
            "_model_name": "LayoutModel",
            "justify_items": null,
            "grid_row": null,
            "max_height": null,
            "align_content": null,
            "visibility": null,
            "align_self": null,
            "height": null,
            "min_height": null,
            "padding": null,
            "grid_auto_rows": null,
            "grid_gap": null,
            "max_width": null,
            "order": null,
            "_view_module_version": "1.2.0",
            "grid_template_areas": null,
            "object_position": null,
            "object_fit": null,
            "grid_auto_columns": null,
            "margin": null,
            "display": null,
            "left": null
          }
        },
        "2d94332a3dea4770a58361d547172e8b": {
          "model_module": "@jupyter-widgets/controls",
          "model_name": "HBoxModel",
          "model_module_version": "1.5.0",
          "state": {
            "_view_name": "HBoxView",
            "_dom_classes": [],
            "_model_name": "HBoxModel",
            "_view_module": "@jupyter-widgets/controls",
            "_model_module_version": "1.5.0",
            "_view_count": null,
            "_view_module_version": "1.5.0",
            "box_style": "",
            "layout": "IPY_MODEL_b88bcd855c9b4f97b26ab064323246a0",
            "_model_module": "@jupyter-widgets/controls",
            "children": [
              "IPY_MODEL_39bc0b9bf1934622b72374e64543b9f6",
              "IPY_MODEL_0a3181ea263d4a3aa230044a2cf9a9f1",
              "IPY_MODEL_6d55fc7a93ea486fa96841f2fb7fbe11"
            ]
          }
        },
        "b88bcd855c9b4f97b26ab064323246a0": {
          "model_module": "@jupyter-widgets/base",
          "model_name": "LayoutModel",
          "model_module_version": "1.2.0",
          "state": {
            "_view_name": "LayoutView",
            "grid_template_rows": null,
            "right": null,
            "justify_content": null,
            "_view_module": "@jupyter-widgets/base",
            "overflow": null,
            "_model_module_version": "1.2.0",
            "_view_count": null,
            "flex_flow": null,
            "width": null,
            "min_width": null,
            "border": null,
            "align_items": null,
            "bottom": null,
            "_model_module": "@jupyter-widgets/base",
            "top": null,
            "grid_column": null,
            "overflow_y": null,
            "overflow_x": null,
            "grid_auto_flow": null,
            "grid_area": null,
            "grid_template_columns": null,
            "flex": null,
            "_model_name": "LayoutModel",
            "justify_items": null,
            "grid_row": null,
            "max_height": null,
            "align_content": null,
            "visibility": null,
            "align_self": null,
            "height": null,
            "min_height": null,
            "padding": null,
            "grid_auto_rows": null,
            "grid_gap": null,
            "max_width": null,
            "order": null,
            "_view_module_version": "1.2.0",
            "grid_template_areas": null,
            "object_position": null,
            "object_fit": null,
            "grid_auto_columns": null,
            "margin": null,
            "display": null,
            "left": null
          }
        },
        "39bc0b9bf1934622b72374e64543b9f6": {
          "model_module": "@jupyter-widgets/controls",
          "model_name": "HTMLModel",
          "model_module_version": "1.5.0",
          "state": {
            "_view_name": "HTMLView",
            "style": "IPY_MODEL_70d579b361254d1689db9d76aa4f38fb",
            "_dom_classes": [],
            "description": "",
            "_model_name": "HTMLModel",
            "placeholder": "​",
            "_view_module": "@jupyter-widgets/controls",
            "_model_module_version": "1.5.0",
            "value": "100%",
            "_view_count": null,
            "_view_module_version": "1.5.0",
            "description_tooltip": null,
            "_model_module": "@jupyter-widgets/controls",
            "layout": "IPY_MODEL_c1b9842808664ddf85fe2c43c2e4722f"
          }
        },
        "0a3181ea263d4a3aa230044a2cf9a9f1": {
          "model_module": "@jupyter-widgets/controls",
          "model_name": "FloatProgressModel",
          "model_module_version": "1.5.0",
          "state": {
            "_view_name": "ProgressView",
            "style": "IPY_MODEL_b063a4b32d2941d3b58279dc69ac9ef6",
            "_dom_classes": [],
            "description": "",
            "_model_name": "FloatProgressModel",
            "bar_style": "success",
            "max": 1000,
            "_view_module": "@jupyter-widgets/controls",
            "_model_module_version": "1.5.0",
            "value": 1000,
            "_view_count": null,
            "_view_module_version": "1.5.0",
            "orientation": "horizontal",
            "min": 0,
            "description_tooltip": null,
            "_model_module": "@jupyter-widgets/controls",
            "layout": "IPY_MODEL_3cf2694812a940a3924c157a0d34a4fb"
          }
        },
        "6d55fc7a93ea486fa96841f2fb7fbe11": {
          "model_module": "@jupyter-widgets/controls",
          "model_name": "HTMLModel",
          "model_module_version": "1.5.0",
          "state": {
            "_view_name": "HTMLView",
            "style": "IPY_MODEL_4524dde1c76c4befb038b69c6859fc7b",
            "_dom_classes": [],
            "description": "",
            "_model_name": "HTMLModel",
            "placeholder": "​",
            "_view_module": "@jupyter-widgets/controls",
            "_model_module_version": "1.5.0",
            "value": " 1000/1000 [00:00&lt;00:00, 1380.39it/s]",
            "_view_count": null,
            "_view_module_version": "1.5.0",
            "description_tooltip": null,
            "_model_module": "@jupyter-widgets/controls",
            "layout": "IPY_MODEL_67ab7eb1f68c42b4ba6746e7ea34c761"
          }
        },
        "70d579b361254d1689db9d76aa4f38fb": {
          "model_module": "@jupyter-widgets/controls",
          "model_name": "DescriptionStyleModel",
          "model_module_version": "1.5.0",
          "state": {
            "_view_name": "StyleView",
            "_model_name": "DescriptionStyleModel",
            "description_width": "",
            "_view_module": "@jupyter-widgets/base",
            "_model_module_version": "1.5.0",
            "_view_count": null,
            "_view_module_version": "1.2.0",
            "_model_module": "@jupyter-widgets/controls"
          }
        },
        "c1b9842808664ddf85fe2c43c2e4722f": {
          "model_module": "@jupyter-widgets/base",
          "model_name": "LayoutModel",
          "model_module_version": "1.2.0",
          "state": {
            "_view_name": "LayoutView",
            "grid_template_rows": null,
            "right": null,
            "justify_content": null,
            "_view_module": "@jupyter-widgets/base",
            "overflow": null,
            "_model_module_version": "1.2.0",
            "_view_count": null,
            "flex_flow": null,
            "width": null,
            "min_width": null,
            "border": null,
            "align_items": null,
            "bottom": null,
            "_model_module": "@jupyter-widgets/base",
            "top": null,
            "grid_column": null,
            "overflow_y": null,
            "overflow_x": null,
            "grid_auto_flow": null,
            "grid_area": null,
            "grid_template_columns": null,
            "flex": null,
            "_model_name": "LayoutModel",
            "justify_items": null,
            "grid_row": null,
            "max_height": null,
            "align_content": null,
            "visibility": null,
            "align_self": null,
            "height": null,
            "min_height": null,
            "padding": null,
            "grid_auto_rows": null,
            "grid_gap": null,
            "max_width": null,
            "order": null,
            "_view_module_version": "1.2.0",
            "grid_template_areas": null,
            "object_position": null,
            "object_fit": null,
            "grid_auto_columns": null,
            "margin": null,
            "display": null,
            "left": null
          }
        },
        "b063a4b32d2941d3b58279dc69ac9ef6": {
          "model_module": "@jupyter-widgets/controls",
          "model_name": "ProgressStyleModel",
          "model_module_version": "1.5.0",
          "state": {
            "_view_name": "StyleView",
            "_model_name": "ProgressStyleModel",
            "description_width": "",
            "_view_module": "@jupyter-widgets/base",
            "_model_module_version": "1.5.0",
            "_view_count": null,
            "_view_module_version": "1.2.0",
            "bar_color": null,
            "_model_module": "@jupyter-widgets/controls"
          }
        },
        "3cf2694812a940a3924c157a0d34a4fb": {
          "model_module": "@jupyter-widgets/base",
          "model_name": "LayoutModel",
          "model_module_version": "1.2.0",
          "state": {
            "_view_name": "LayoutView",
            "grid_template_rows": null,
            "right": null,
            "justify_content": null,
            "_view_module": "@jupyter-widgets/base",
            "overflow": null,
            "_model_module_version": "1.2.0",
            "_view_count": null,
            "flex_flow": null,
            "width": null,
            "min_width": null,
            "border": null,
            "align_items": null,
            "bottom": null,
            "_model_module": "@jupyter-widgets/base",
            "top": null,
            "grid_column": null,
            "overflow_y": null,
            "overflow_x": null,
            "grid_auto_flow": null,
            "grid_area": null,
            "grid_template_columns": null,
            "flex": null,
            "_model_name": "LayoutModel",
            "justify_items": null,
            "grid_row": null,
            "max_height": null,
            "align_content": null,
            "visibility": null,
            "align_self": null,
            "height": null,
            "min_height": null,
            "padding": null,
            "grid_auto_rows": null,
            "grid_gap": null,
            "max_width": null,
            "order": null,
            "_view_module_version": "1.2.0",
            "grid_template_areas": null,
            "object_position": null,
            "object_fit": null,
            "grid_auto_columns": null,
            "margin": null,
            "display": null,
            "left": null
          }
        },
        "4524dde1c76c4befb038b69c6859fc7b": {
          "model_module": "@jupyter-widgets/controls",
          "model_name": "DescriptionStyleModel",
          "model_module_version": "1.5.0",
          "state": {
            "_view_name": "StyleView",
            "_model_name": "DescriptionStyleModel",
            "description_width": "",
            "_view_module": "@jupyter-widgets/base",
            "_model_module_version": "1.5.0",
            "_view_count": null,
            "_view_module_version": "1.2.0",
            "_model_module": "@jupyter-widgets/controls"
          }
        },
        "67ab7eb1f68c42b4ba6746e7ea34c761": {
          "model_module": "@jupyter-widgets/base",
          "model_name": "LayoutModel",
          "model_module_version": "1.2.0",
          "state": {
            "_view_name": "LayoutView",
            "grid_template_rows": null,
            "right": null,
            "justify_content": null,
            "_view_module": "@jupyter-widgets/base",
            "overflow": null,
            "_model_module_version": "1.2.0",
            "_view_count": null,
            "flex_flow": null,
            "width": null,
            "min_width": null,
            "border": null,
            "align_items": null,
            "bottom": null,
            "_model_module": "@jupyter-widgets/base",
            "top": null,
            "grid_column": null,
            "overflow_y": null,
            "overflow_x": null,
            "grid_auto_flow": null,
            "grid_area": null,
            "grid_template_columns": null,
            "flex": null,
            "_model_name": "LayoutModel",
            "justify_items": null,
            "grid_row": null,
            "max_height": null,
            "align_content": null,
            "visibility": null,
            "align_self": null,
            "height": null,
            "min_height": null,
            "padding": null,
            "grid_auto_rows": null,
            "grid_gap": null,
            "max_width": null,
            "order": null,
            "_view_module_version": "1.2.0",
            "grid_template_areas": null,
            "object_position": null,
            "object_fit": null,
            "grid_auto_columns": null,
            "margin": null,
            "display": null,
            "left": null
          }
        }
      }
    }
  },
  "nbformat": 4,
  "nbformat_minor": 0
}
